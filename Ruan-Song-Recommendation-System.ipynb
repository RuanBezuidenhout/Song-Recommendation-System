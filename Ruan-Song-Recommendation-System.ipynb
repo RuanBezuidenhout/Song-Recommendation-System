{
 "cells": [
  {
   "cell_type": "code",
   "execution_count": 2,
   "id": "a7a6d48f",
   "metadata": {},
   "outputs": [
    {
     "name": "stdout",
     "output_type": "stream",
     "text": [
      "   Index                   Title             Artist            Top Genre  \\\n",
      "0      1                 Sunrise        Norah Jones      adult standards   \n",
      "1      2             Black Night        Deep Purple           album rock   \n",
      "2      3          Clint Eastwood           Gorillaz  alternative hip hop   \n",
      "3      4           The Pretender       Foo Fighters    alternative metal   \n",
      "4      5  Waitin' On A Sunny Day  Bruce Springsteen         classic rock   \n",
      "\n",
      "   Year  Beats Per Minute (BPM)  Energy  Danceability  Loudness (dB)  \\\n",
      "0  2004                     157      30            53            -14   \n",
      "1  2000                     135      79            50            -11   \n",
      "2  2001                     168      69            66             -9   \n",
      "3  2007                     173      96            43             -4   \n",
      "4  2002                     106      82            58             -5   \n",
      "\n",
      "   Liveness  Valence Length (Duration)  Acousticness  Speechiness  Popularity  \n",
      "0        11       68               201            94            3          71  \n",
      "1        17       81               207            17            7          39  \n",
      "2         7       52               341             2           17          69  \n",
      "3         3       37               269             0            4          76  \n",
      "4        10       87               256             1            3          59  \n"
     ]
    }
   ],
   "source": [
    "#Import Dataset\n",
    "import pandas as pd\n",
    "\n",
    "df = pd.read_csv('Spotify-2000.csv')\n",
    "\n",
    "print(df.head())"
   ]
  },
  {
   "cell_type": "code",
   "execution_count": 3,
   "id": "78e76bbf",
   "metadata": {},
   "outputs": [
    {
     "name": "stdout",
     "output_type": "stream",
     "text": [
      "                    Title             Artist          Top Genre\n",
      "0                 Sunrise        Norah Jones     adultstandards\n",
      "1             Black Night        Deep Purple          albumrock\n",
      "2          Clint Eastwood           Gorillaz  alternativehiphop\n",
      "3           The Pretender       Foo Fighters   alternativemetal\n",
      "4  Waitin' On A Sunny Day  Bruce Springsteen        classicrock\n"
     ]
    },
    {
     "name": "stderr",
     "output_type": "stream",
     "text": [
      "<ipython-input-3-c631a6f856ab>:5: SettingWithCopyWarning: \n",
      "A value is trying to be set on a copy of a slice from a DataFrame.\n",
      "Try using .loc[row_indexer,col_indexer] = value instead\n",
      "\n",
      "See the caveats in the documentation: https://pandas.pydata.org/pandas-docs/stable/user_guide/indexing.html#returning-a-view-versus-a-copy\n",
      "  songsdf['Top Genre'] = songsdf['Top Genre'].str.replace(' ','')\n"
     ]
    }
   ],
   "source": [
    "#Cleaning Dataset by removing columns that are not goning to be used\n",
    "\n",
    "songsdf = df[['Title', 'Artist', 'Top Genre']]\n",
    "\n",
    "#Removing blank spaces\n",
    "\n",
    "songsdf['Top Genre'] = songsdf['Top Genre'].str.replace(' ','')\n",
    "\n",
    "print(songsdf.head())"
   ]
  },
  {
   "cell_type": "code",
   "execution_count": 5,
   "id": "309e8232",
   "metadata": {},
   "outputs": [],
   "source": [
    "#Importing TfidVectorizer from the sklearn library so that we can transform Top Genre column to the vector form \n",
    "\n",
    "from sklearn.feature_extraction.text import TfidfVectorizer\n",
    "\n",
    "tfVector = TfidfVectorizer(analyzer='word', ngram_range=(1, 3), min_df=0, stop_words='english')\n",
    "\n",
    "matrix = tfVector.fit_transform(songsdf['Top Genre'])\n",
    "\n",
    "#Checking for similarities in the Top Genre column\n",
    "\n",
    "from sklearn.metrics.pairwise import linear_kernel\n",
    "\n",
    "cosine_similarities = linear_kernel(matrix,matrix)"
   ]
  },
  {
   "cell_type": "code",
   "execution_count": 10,
   "id": "2fc5c5b1",
   "metadata": {},
   "outputs": [],
   "source": [
    "song_name = songsdf['Title']\n",
    "\n",
    "indices = pd.Series(songsdf.index, index=songsdf['Title'])\n",
    "\n",
    "#Creating song recommend function\n",
    "\n",
    "def song_recommend(user_song_name):    \n",
    "\n",
    "    temp_index = indices[user_song_name]\n",
    "\n",
    "    similarity_scores = list(enumerate(cosine_similarities[temp_index]))\n",
    "    \n",
    "    similarity_scores = sorted(similarity_scores, key=lambda x: x[1].any(), reverse=True)\n",
    "\n",
    "    similarity_scores = similarity_scores[1:31]\n",
    "\n",
    "    song_indices = [i[0] for i in similarity_scores]\n",
    "\n",
    "    return song_name.iloc[song_indices] "
   ]
  },
  {
   "cell_type": "code",
   "execution_count": 11,
   "id": "a9aa5c24",
   "metadata": {},
   "outputs": [
    {
     "data": {
      "text/plain": [
       "75                            Dirty Diana\n",
       "235                             Fireflies\n",
       "246    Will You Be There - Single Version\n",
       "289       Black or White - Single Version\n",
       "444                            The A Team\n",
       "Name: Title, dtype: object"
      ]
     },
     "execution_count": 11,
     "metadata": {},
     "output_type": "execute_result"
    }
   ],
   "source": [
    "#Executing the champion recommend function 3 times to see the different results\n",
    "\n",
    "song_recommend('She Will Be Loved').head(5)"
   ]
  },
  {
   "cell_type": "code",
   "execution_count": 12,
   "id": "19b75c10",
   "metadata": {},
   "outputs": [
    {
     "data": {
      "text/plain": [
       "27                       Cleanin' Out My Closet\n",
       "114    Lose Yourself - From \"8 Mile\" Soundtrack\n",
       "192                         The Real Slim Shady\n",
       "219                                        Stan\n",
       "546                                 The Monster\n",
       "Name: Title, dtype: object"
      ]
     },
     "execution_count": 12,
     "metadata": {},
     "output_type": "execute_result"
    }
   ],
   "source": [
    "song_recommend('Without Me').head(5)"
   ]
  },
  {
   "cell_type": "code",
   "execution_count": 13,
   "id": "462ad0a8",
   "metadata": {},
   "outputs": [
    {
     "data": {
      "text/plain": [
       "10                                Love Me Tender\n",
       "33                                Don't Know Why\n",
       "48     You're The First, The Last, My Everything\n",
       "124                     Papa Was A Rolling Stone\n",
       "138                                         Home\n",
       "Name: Title, dtype: object"
      ]
     },
     "execution_count": 13,
     "metadata": {},
     "output_type": "execute_result"
    }
   ],
   "source": [
    "song_recommend('Heartbreak Hotel').head(5)"
   ]
  },
  {
   "cell_type": "code",
   "execution_count": null,
   "id": "1fa74c28",
   "metadata": {},
   "outputs": [],
   "source": []
  }
 ],
 "metadata": {
  "kernelspec": {
   "display_name": "Python 3",
   "language": "python",
   "name": "python3"
  },
  "language_info": {
   "codemirror_mode": {
    "name": "ipython",
    "version": 3
   },
   "file_extension": ".py",
   "mimetype": "text/x-python",
   "name": "python",
   "nbconvert_exporter": "python",
   "pygments_lexer": "ipython3",
   "version": "3.8.8"
  }
 },
 "nbformat": 4,
 "nbformat_minor": 5
}
